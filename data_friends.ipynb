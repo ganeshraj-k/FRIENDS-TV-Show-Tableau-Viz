{
 "cells": [
  {
   "cell_type": "code",
   "execution_count": 1,
   "id": "441df453",
   "metadata": {
    "scrolled": true
   },
   "outputs": [
    {
     "name": "stderr",
     "output_type": "stream",
     "text": [
      "C:\\Users\\ganes\\anaconda3\\lib\\site-packages\\pandas\\core\\computation\\expressions.py:21: UserWarning: Pandas requires version '2.8.0' or newer of 'numexpr' (version '2.7.3' currently installed).\n",
      "  from pandas.core.computation.check import NUMEXPR_INSTALLED\n"
     ]
    }
   ],
   "source": [
    "import pandas as pd"
   ]
  },
  {
   "cell_type": "code",
   "execution_count": 6,
   "id": "612fed3e",
   "metadata": {},
   "outputs": [],
   "source": [
    "file1  =  r\"C:\\Users\\ganes\\Desktop\\coding and prep\\Tableau practice\\archive (10)\\friends_info.csv\"\n",
    "file2 = r\"C:\\Users\\ganes\\Desktop\\coding and prep\\Tableau practice\\archive (9)\\friends_episodes_v3.csv\""
   ]
  },
  {
   "cell_type": "code",
   "execution_count": 8,
   "id": "03235f27",
   "metadata": {},
   "outputs": [
    {
     "name": "stdout",
     "output_type": "stream",
     "text": [
      "Index(['season', 'episode', 'title', 'directed_by', 'written_by', 'air_date',\n",
      "       'us_views_millions', 'imdb_rating'],\n",
      "      dtype='object') Index(['Year_of_prod', 'Season', 'Episode Number', 'Episode_Title', 'Duration',\n",
      "       'Summary', 'Director', 'Stars', 'Votes'],\n",
      "      dtype='object')\n"
     ]
    }
   ],
   "source": [
    "df1 = pd.read_csv(file1 , encoding = \"ISO-8859-1\")\n",
    "df2 = pd.read_csv(file2,  encoding = \"ISO-8859-1\")\n",
    "print(df1.columns, df2.columns)"
   ]
  },
  {
   "cell_type": "code",
   "execution_count": 9,
   "id": "0a7b1350",
   "metadata": {
    "scrolled": true
   },
   "outputs": [
    {
     "data": {
      "text/html": [
       "<div>\n",
       "<style scoped>\n",
       "    .dataframe tbody tr th:only-of-type {\n",
       "        vertical-align: middle;\n",
       "    }\n",
       "\n",
       "    .dataframe tbody tr th {\n",
       "        vertical-align: top;\n",
       "    }\n",
       "\n",
       "    .dataframe thead th {\n",
       "        text-align: right;\n",
       "    }\n",
       "</style>\n",
       "<table border=\"1\" class=\"dataframe\">\n",
       "  <thead>\n",
       "    <tr style=\"text-align: right;\">\n",
       "      <th></th>\n",
       "      <th>season</th>\n",
       "      <th>episode</th>\n",
       "      <th>title</th>\n",
       "      <th>directed_by</th>\n",
       "      <th>written_by</th>\n",
       "      <th>air_date</th>\n",
       "      <th>us_views_millions</th>\n",
       "      <th>imdb_rating</th>\n",
       "    </tr>\n",
       "  </thead>\n",
       "  <tbody>\n",
       "    <tr>\n",
       "      <th>0</th>\n",
       "      <td>1</td>\n",
       "      <td>1</td>\n",
       "      <td>The Pilot</td>\n",
       "      <td>James Burrows</td>\n",
       "      <td>David Crane &amp; Marta Kauffman</td>\n",
       "      <td>1994-09-22</td>\n",
       "      <td>21.5</td>\n",
       "      <td>8.3</td>\n",
       "    </tr>\n",
       "    <tr>\n",
       "      <th>1</th>\n",
       "      <td>1</td>\n",
       "      <td>2</td>\n",
       "      <td>The One with the Sonogram at the End</td>\n",
       "      <td>James Burrows</td>\n",
       "      <td>David Crane &amp; Marta Kauffman</td>\n",
       "      <td>1994-09-29</td>\n",
       "      <td>20.2</td>\n",
       "      <td>8.1</td>\n",
       "    </tr>\n",
       "    <tr>\n",
       "      <th>2</th>\n",
       "      <td>1</td>\n",
       "      <td>3</td>\n",
       "      <td>The One with the Thumb</td>\n",
       "      <td>James Burrows</td>\n",
       "      <td>Jeffrey Astrof &amp; Mike Sikowitz</td>\n",
       "      <td>1994-10-06</td>\n",
       "      <td>19.5</td>\n",
       "      <td>8.2</td>\n",
       "    </tr>\n",
       "    <tr>\n",
       "      <th>3</th>\n",
       "      <td>1</td>\n",
       "      <td>4</td>\n",
       "      <td>The One with George Stephanopoulos</td>\n",
       "      <td>James Burrows</td>\n",
       "      <td>Alexa Junge</td>\n",
       "      <td>1994-10-13</td>\n",
       "      <td>19.7</td>\n",
       "      <td>8.1</td>\n",
       "    </tr>\n",
       "    <tr>\n",
       "      <th>4</th>\n",
       "      <td>1</td>\n",
       "      <td>5</td>\n",
       "      <td>The One with the East German Laundry Detergent</td>\n",
       "      <td>Pamela Fryman</td>\n",
       "      <td>Jeff Greenstein &amp; Jeff Strauss</td>\n",
       "      <td>1994-10-20</td>\n",
       "      <td>18.6</td>\n",
       "      <td>8.5</td>\n",
       "    </tr>\n",
       "  </tbody>\n",
       "</table>\n",
       "</div>"
      ],
      "text/plain": [
       "   season  episode                                           title  \\\n",
       "0       1        1                                       The Pilot   \n",
       "1       1        2            The One with the Sonogram at the End   \n",
       "2       1        3                          The One with the Thumb   \n",
       "3       1        4              The One with George Stephanopoulos   \n",
       "4       1        5  The One with the East German Laundry Detergent   \n",
       "\n",
       "     directed_by                      written_by    air_date  \\\n",
       "0  James Burrows    David Crane & Marta Kauffman  1994-09-22   \n",
       "1  James Burrows    David Crane & Marta Kauffman  1994-09-29   \n",
       "2  James Burrows  Jeffrey Astrof & Mike Sikowitz  1994-10-06   \n",
       "3  James Burrows                     Alexa Junge  1994-10-13   \n",
       "4  Pamela Fryman  Jeff Greenstein & Jeff Strauss  1994-10-20   \n",
       "\n",
       "   us_views_millions  imdb_rating  \n",
       "0               21.5          8.3  \n",
       "1               20.2          8.1  \n",
       "2               19.5          8.2  \n",
       "3               19.7          8.1  \n",
       "4               18.6          8.5  "
      ]
     },
     "execution_count": 9,
     "metadata": {},
     "output_type": "execute_result"
    }
   ],
   "source": [
    " df1.head()"
   ]
  },
  {
   "cell_type": "code",
   "execution_count": 25,
   "id": "a94ed580",
   "metadata": {
    "scrolled": true
   },
   "outputs": [
    {
     "name": "stdout",
     "output_type": "stream",
     "text": [
      "   Year_of_prod  Season  Episode Number  \\\n",
      "0          1994       1               1   \n",
      "1          1994       1               2   \n",
      "2          1994       1               3   \n",
      "3          1994       1               4   \n",
      "4          1994       1               5   \n",
      "\n",
      "                                     Episode_Title  Duration  \\\n",
      "0  The One Where Monica Gets a Roommate: The Pilot        22   \n",
      "1             The One with the Sonogram at the End        22   \n",
      "2                           The One with the Thumb        22   \n",
      "3               The One with George Stephanopoulos        22   \n",
      "4   The One with the East German Laundry Detergent        22   \n",
      "\n",
      "                                             Summary       Director  Stars  \\\n",
      "0  Monica and the gang introduce Rachel to the \"r...  James Burrows    8.3   \n",
      "1  Ross finds out his ex-wife is pregnant. Rachel...  James Burrows    8.1   \n",
      "2  Monica becomes irritated when everyone likes h...  James Burrows    8.2   \n",
      "3  Joey and Chandler take Ross to a hockey game t...  James Burrows    8.1   \n",
      "4  Eager to spend time with Rachel, Ross pretends...  Pamela Fryman    8.5   \n",
      "\n",
      "   Votes  \n",
      "0   7440  \n",
      "1   4888  \n",
      "2   4605  \n",
      "3   4468  \n",
      "4   4438  \n"
     ]
    }
   ],
   "source": [
    "print(df2.head())"
   ]
  },
  {
   "cell_type": "code",
   "execution_count": 19,
   "id": "fc9b725c",
   "metadata": {},
   "outputs": [
    {
     "name": "stdout",
     "output_type": "stream",
     "text": [
      "Index(['season', 'episode', 'title', 'directed_by', 'written_by', 'air_date',\n",
      "       'us_views_millions', 'imdb_rating', 'Season', 'Episode Number',\n",
      "       'Duration'],\n",
      "      dtype='object')\n"
     ]
    }
   ],
   "source": [
    "merged_df = pd.merge(df1, df2[['Season','Episode Number','Duration']] , right_on= ['Season', 'Episode Number'], \n",
    "                     left_on = ['season', 'episode'] , how = 'inner')\n",
    "print(merged_df.columns)\n",
    "merged_df.drop( columns = ['Season','Episode Number'] , inplace = True)"
   ]
  },
  {
   "cell_type": "code",
   "execution_count": 24,
   "id": "58d100e8",
   "metadata": {},
   "outputs": [],
   "source": [
    "merged_df.to_excel(\"Friends_episode_data.xlsx\", index=False)"
   ]
  }
 ],
 "metadata": {
  "kernelspec": {
   "display_name": "Python 3 (ipykernel)",
   "language": "python",
   "name": "python3"
  },
  "language_info": {
   "codemirror_mode": {
    "name": "ipython",
    "version": 3
   },
   "file_extension": ".py",
   "mimetype": "text/x-python",
   "name": "python",
   "nbconvert_exporter": "python",
   "pygments_lexer": "ipython3",
   "version": "3.9.18"
  }
 },
 "nbformat": 4,
 "nbformat_minor": 5
}
